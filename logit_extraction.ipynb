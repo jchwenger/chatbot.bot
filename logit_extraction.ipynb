{
 "cells": [
  {
   "cell_type": "code",
   "execution_count": 2,
   "metadata": {},
   "outputs": [
    {
     "data": {
      "text/plain": [
       "True"
      ]
     },
     "execution_count": 2,
     "metadata": {},
     "output_type": "execute_result"
    }
   ],
   "source": [
    "import numpy as np\n",
    "\n",
    "batch_size = 4\n",
    "seq_len = 10\n",
    "n_vocab = 200\n",
    "\n",
    "# synthetic sequences of tokens\n",
    "sequences = np.random.randint(0, n_vocab, size=(batch_size, seq_len))\n",
    "\n",
    "# synthetic logits matrix, which I would obtain by running my network over the sequences\n",
    "logits = np.random.normal(size=(batch_size, seq_len, n_vocab)) \n",
    "\n",
    "# select the appropriate logits from the matrix using the sequences tokens as indices\n",
    "# question: is there a more numpyic way of doing thing? \n",
    "seq_scores = np.array([\n",
    "    [logits[batch, step, token]for step, token in enumerate(sequence)] \n",
    "    for batch, sequence in enumerate(sequences)\n",
    "])\n",
    "\n",
    "seq_scores[0,0] == logits[0,0,sequences[0,0]] # True\n",
    "seq_scores.shape == sequences.shape # True"
   ]
  },
  {
   "cell_type": "markdown",
   "metadata": {},
   "source": [
    "## Optimization on one sequence."
   ]
  },
  {
   "cell_type": "code",
   "execution_count": 11,
   "metadata": {},
   "outputs": [
    {
     "data": {
      "text/plain": [
       "array([ True,  True,  True,  True,  True,  True,  True,  True,  True,\n",
       "        True])"
      ]
     },
     "execution_count": 11,
     "metadata": {},
     "output_type": "execute_result"
    }
   ],
   "source": [
    "[logits[0, i, token] for i, token in enumerate(sequences[0])] \\\n",
    "    == logits[0, list(range(seq_len)), sequences[0]] "
   ]
  },
  {
   "cell_type": "code",
   "execution_count": 8,
   "metadata": {},
   "outputs": [
    {
     "name": "stdout",
     "output_type": "stream",
     "text": [
      "3.28 µs ± 27.4 ns per loop (mean ± std. dev. of 7 runs, 100000 loops each)\n"
     ]
    }
   ],
   "source": [
    "%timeit [logits[0, i, token] for i, token in enumerate(sequences[0])]"
   ]
  },
  {
   "cell_type": "code",
   "execution_count": 9,
   "metadata": {},
   "outputs": [
    {
     "name": "stdout",
     "output_type": "stream",
     "text": [
      "3.31 µs ± 45.9 ns per loop (mean ± std. dev. of 7 runs, 100000 loops each)\n"
     ]
    }
   ],
   "source": [
    "%timeit logits[0, list(range(seq_len)), sequences[0]] "
   ]
  },
  {
   "cell_type": "markdown",
   "metadata": {},
   "source": [
    "## Optimization with batches."
   ]
  },
  {
   "cell_type": "code",
   "execution_count": 105,
   "metadata": {},
   "outputs": [
    {
     "name": "stdout",
     "output_type": "stream",
     "text": [
      "6.37 µs ± 241 ns per loop (mean ± std. dev. of 7 runs, 100000 loops each)\n"
     ]
    }
   ],
   "source": [
    "%timeit np.repeat(list(range(batch_size)), seq_len).reshape(-1, seq_len)"
   ]
  },
  {
   "cell_type": "code",
   "execution_count": 109,
   "metadata": {},
   "outputs": [
    {
     "name": "stdout",
     "output_type": "stream",
     "text": [
      "987 ns ± 19.1 ns per loop (mean ± std. dev. of 7 runs, 1000000 loops each)\n"
     ]
    }
   ],
   "source": [
    "%timeit  [[x] * seq_len for x in range(batch_size)]"
   ]
  },
  {
   "cell_type": "code",
   "execution_count": 122,
   "metadata": {},
   "outputs": [
    {
     "name": "stdout",
     "output_type": "stream",
     "text": [
      "1.51 µs ± 51.6 ns per loop (mean ± std. dev. of 7 runs, 1000000 loops each)\n"
     ]
    }
   ],
   "source": [
    "%timeit list(zip(*seq_len * [list(range(batch_size))]))"
   ]
  },
  {
   "cell_type": "code",
   "execution_count": 123,
   "metadata": {},
   "outputs": [
    {
     "data": {
      "text/plain": [
       "[(0, 0, 0, 0, 0, 0, 0, 0, 0, 0),\n",
       " (1, 1, 1, 1, 1, 1, 1, 1, 1, 1),\n",
       " (2, 2, 2, 2, 2, 2, 2, 2, 2, 2),\n",
       " (3, 3, 3, 3, 3, 3, 3, 3, 3, 3)]"
      ]
     },
     "execution_count": 123,
     "metadata": {},
     "output_type": "execute_result"
    }
   ],
   "source": [
    "list(zip(*seq_len * [list(range(batch_size))]))"
   ]
  },
  {
   "cell_type": "code",
   "execution_count": 111,
   "metadata": {},
   "outputs": [
    {
     "data": {
      "text/plain": [
       "[[0, 0, 0, 0, 0, 0, 0, 0, 0, 0],\n",
       " [1, 1, 1, 1, 1, 1, 1, 1, 1, 1],\n",
       " [2, 2, 2, 2, 2, 2, 2, 2, 2, 2],\n",
       " [3, 3, 3, 3, 3, 3, 3, 3, 3, 3]]"
      ]
     },
     "execution_count": 111,
     "metadata": {},
     "output_type": "execute_result"
    }
   ],
   "source": [
    "[[x] * seq_len for x in range(batch_size)]"
   ]
  },
  {
   "cell_type": "code",
   "execution_count": 97,
   "metadata": {},
   "outputs": [
    {
     "data": {
      "text/plain": [
       "array([[0, 0, 0, 0, 0, 0, 0, 0, 0, 0],\n",
       "       [1, 1, 1, 1, 1, 1, 1, 1, 1, 1],\n",
       "       [2, 2, 2, 2, 2, 2, 2, 2, 2, 2],\n",
       "       [3, 3, 3, 3, 3, 3, 3, 3, 3, 3]])"
      ]
     },
     "execution_count": 97,
     "metadata": {},
     "output_type": "execute_result"
    }
   ],
   "source": [
    "i1 = np.repeat(list(range(batch_size)), seq_len).reshape(-1, seq_len)\n",
    "i1"
   ]
  },
  {
   "cell_type": "code",
   "execution_count": 98,
   "metadata": {},
   "outputs": [
    {
     "data": {
      "text/plain": [
       "[[0, 1, 2, 3, 4, 5, 6, 7, 8, 9],\n",
       " [0, 1, 2, 3, 4, 5, 6, 7, 8, 9],\n",
       " [0, 1, 2, 3, 4, 5, 6, 7, 8, 9],\n",
       " [0, 1, 2, 3, 4, 5, 6, 7, 8, 9]]"
      ]
     },
     "execution_count": 98,
     "metadata": {},
     "output_type": "execute_result"
    }
   ],
   "source": [
    "i2 = batch_size * [list(range(seq_len))]\n",
    "i2"
   ]
  },
  {
   "cell_type": "code",
   "execution_count": 85,
   "metadata": {},
   "outputs": [
    {
     "data": {
      "text/plain": [
       "array([[187,  89, 153, 101,   3,  14, 157,  25,  71,  93],\n",
       "       [129, 109, 128,  46,  16,  77,  75, 126, 127, 142],\n",
       "       [ 68,  54, 146, 163, 103, 188,  38,   4,  60, 153],\n",
       "       [ 29, 183, 178,  31, 186,  73,  61, 143, 196, 149]])"
      ]
     },
     "execution_count": 85,
     "metadata": {},
     "output_type": "execute_result"
    }
   ],
   "source": [
    "sequences"
   ]
  },
  {
   "cell_type": "markdown",
   "metadata": {},
   "source": [
    "### Let's do it!"
   ]
  },
  {
   "cell_type": "code",
   "execution_count": 99,
   "metadata": {},
   "outputs": [
    {
     "data": {
      "text/plain": [
       "(4, 10)"
      ]
     },
     "execution_count": 99,
     "metadata": {},
     "output_type": "execute_result"
    }
   ],
   "source": [
    "logits[i1,i2, sequences].shape"
   ]
  },
  {
   "cell_type": "code",
   "execution_count": 101,
   "metadata": {},
   "outputs": [],
   "source": [
    "seq_scores2 = logits[i1,i2, sequences]"
   ]
  },
  {
   "cell_type": "code",
   "execution_count": 102,
   "metadata": {},
   "outputs": [
    {
     "data": {
      "text/plain": [
       "array([[ True,  True,  True,  True,  True,  True,  True,  True,  True,\n",
       "         True],\n",
       "       [ True,  True,  True,  True,  True,  True,  True,  True,  True,\n",
       "         True],\n",
       "       [ True,  True,  True,  True,  True,  True,  True,  True,  True,\n",
       "         True],\n",
       "       [ True,  True,  True,  True,  True,  True,  True,  True,  True,\n",
       "         True]])"
      ]
     },
     "execution_count": 102,
     "metadata": {},
     "output_type": "execute_result"
    }
   ],
   "source": [
    "seq_scores == seq_scores2"
   ]
  },
  {
   "cell_type": "markdown",
   "metadata": {},
   "source": [
    "### Tests."
   ]
  },
  {
   "cell_type": "code",
   "execution_count": 104,
   "metadata": {},
   "outputs": [
    {
     "name": "stdout",
     "output_type": "stream",
     "text": [
      "23.3 µs ± 393 ns per loop (mean ± std. dev. of 7 runs, 10000 loops each)\n"
     ]
    }
   ],
   "source": [
    "%timeit seq_scores = np.array([[logits[batch, step, token]for step, token in enumerate(sequence)] for batch, sequence in enumerate(sequences)])"
   ]
  },
  {
   "cell_type": "code",
   "execution_count": 107,
   "metadata": {},
   "outputs": [
    {
     "name": "stdout",
     "output_type": "stream",
     "text": [
      "15 µs ± 553 ns per loop (mean ± std. dev. of 7 runs, 100000 loops each)\n"
     ]
    }
   ],
   "source": [
    "%timeit logits[np.repeat(list(range(batch_size)), seq_len).reshape(-1, seq_len), batch_size * [list(range(seq_len))], sequences]"
   ]
  },
  {
   "cell_type": "code",
   "execution_count": 112,
   "metadata": {},
   "outputs": [
    {
     "name": "stdout",
     "output_type": "stream",
     "text": [
      "13.3 µs ± 257 ns per loop (mean ± std. dev. of 7 runs, 100000 loops each)\n"
     ]
    }
   ],
   "source": [
    "%timeit logits[[[x] * seq_len for x in range(batch_size)], batch_size * [list(range(seq_len))], sequences]"
   ]
  },
  {
   "cell_type": "markdown",
   "metadata": {},
   "source": [
    "---\n",
    "\n",
    "## Similar business but with tf"
   ]
  },
  {
   "cell_type": "code",
   "execution_count": 1,
   "metadata": {},
   "outputs": [],
   "source": [
    "import tensorflow as tf\n",
    "tf.enable_eager_execution() # for tf 1.14"
   ]
  },
  {
   "cell_type": "code",
   "execution_count": 11,
   "metadata": {},
   "outputs": [
    {
     "data": {
      "text/plain": [
       "'1.14.0'"
      ]
     },
     "execution_count": 11,
     "metadata": {},
     "output_type": "execute_result"
    }
   ],
   "source": [
    "tf.__version__"
   ]
  },
  {
   "cell_type": "code",
   "execution_count": 3,
   "metadata": {},
   "outputs": [],
   "source": [
    "t = tf.cast(tf.random.normal(shape=(5,2,10))*100, tf.int32) "
   ]
  },
  {
   "cell_type": "code",
   "execution_count": 4,
   "metadata": {},
   "outputs": [
    {
     "data": {
      "text/plain": [
       "<tf.Tensor: id=8, shape=(5, 2, 10), dtype=int32, numpy=\n",
       "array([[[  -8,  -17,   13,  199,  -56,   29, -142, -229, -120,  105],\n",
       "        [ -88,   63, -160,   -1,   61,  -68, -190, -199,    0,  -19]],\n",
       "\n",
       "       [[ 196, -163,  162,  195,  117,  -71,  -69,    1,  179,   19],\n",
       "        [-106,  -61,  -99,   54,  178,  -35,   36,  -95,   -4, -155]],\n",
       "\n",
       "       [[ -86,    0,   12, -111,   27, -145,  107,  136,   37,  202],\n",
       "        [-100,    0,  112, -168,   -7,  -29,   82,   35,   90,   31]],\n",
       "\n",
       "       [[ 100,   62, -175,   35,  165,  -20, -149,    5,   21, -107],\n",
       "        [  89,   58,   38,  150,  -80,   45,  217,   76,   81,   53]],\n",
       "\n",
       "       [[ -70,   91,   90,  -42,  227,  235,  151,  -13,  -89,   20],\n",
       "        [   3,  -11,  -38,  102,    8,   13,  120,  -25, -217,  140]]],\n",
       "      dtype=int32)>"
      ]
     },
     "execution_count": 4,
     "metadata": {},
     "output_type": "execute_result"
    }
   ],
   "source": [
    "t"
   ]
  },
  {
   "cell_type": "code",
   "execution_count": 5,
   "metadata": {},
   "outputs": [],
   "source": [
    "ind = tf.cast(tf.random.uniform(shape=(5,2,1))*10, tf.int32)"
   ]
  },
  {
   "cell_type": "code",
   "execution_count": 6,
   "metadata": {},
   "outputs": [
    {
     "data": {
      "text/plain": [
       "<tf.Tensor: id=19, shape=(5, 2, 1), dtype=int32, numpy=\n",
       "array([[[1],\n",
       "        [7]],\n",
       "\n",
       "       [[5],\n",
       "        [4]],\n",
       "\n",
       "       [[8],\n",
       "        [7]],\n",
       "\n",
       "       [[6],\n",
       "        [5]],\n",
       "\n",
       "       [[9],\n",
       "        [8]]], dtype=int32)>"
      ]
     },
     "execution_count": 6,
     "metadata": {},
     "output_type": "execute_result"
    }
   ],
   "source": [
    "ind"
   ]
  },
  {
   "cell_type": "code",
   "execution_count": 58,
   "metadata": {},
   "outputs": [
    {
     "data": {
      "text/plain": [
       "<tf.Tensor: id=406, shape=(5, 2, 1), dtype=int32, numpy=\n",
       "array([[[0],\n",
       "        [0]],\n",
       "\n",
       "       [[1],\n",
       "        [1]],\n",
       "\n",
       "       [[2],\n",
       "        [2]],\n",
       "\n",
       "       [[3],\n",
       "        [3]],\n",
       "\n",
       "       [[4],\n",
       "        [4]]], dtype=int32)>"
      ]
     },
     "execution_count": 58,
     "metadata": {},
     "output_type": "execute_result"
    }
   ],
   "source": [
    "dim1 = tf.transpose(tf.reshape(tf.tile(tf.range(5), [2]), (2,5,1)), [1,0,2]) \n",
    "dim1"
   ]
  },
  {
   "cell_type": "code",
   "execution_count": 33,
   "metadata": {},
   "outputs": [
    {
     "data": {
      "text/plain": [
       "<tf.Tensor: id=165, shape=(5, 2, 1), dtype=int32, numpy=\n",
       "array([[[0],\n",
       "        [1]],\n",
       "\n",
       "       [[0],\n",
       "        [1]],\n",
       "\n",
       "       [[0],\n",
       "        [1]],\n",
       "\n",
       "       [[0],\n",
       "        [1]],\n",
       "\n",
       "       [[0],\n",
       "        [1]]], dtype=int32)>"
      ]
     },
     "execution_count": 33,
     "metadata": {},
     "output_type": "execute_result"
    }
   ],
   "source": [
    "dim2 = tf.reshape(tf.tile(tf.range(2), [5]), (5,2))[..., None]\n",
    "dim2"
   ]
  },
  {
   "cell_type": "code",
   "execution_count": 59,
   "metadata": {},
   "outputs": [
    {
     "data": {
      "text/plain": [
       "<tf.Tensor: id=409, shape=(5, 2, 3), dtype=int32, numpy=\n",
       "array([[[0, 0, 1],\n",
       "        [0, 1, 7]],\n",
       "\n",
       "       [[1, 0, 5],\n",
       "        [1, 1, 4]],\n",
       "\n",
       "       [[2, 0, 8],\n",
       "        [2, 1, 7]],\n",
       "\n",
       "       [[3, 0, 6],\n",
       "        [3, 1, 5]],\n",
       "\n",
       "       [[4, 0, 9],\n",
       "        [4, 1, 8]]], dtype=int32)>"
      ]
     },
     "execution_count": 59,
     "metadata": {},
     "output_type": "execute_result"
    }
   ],
   "source": [
    "indz = tf.concat([dim1, dim2, ind], axis=-1)\n",
    "indz"
   ]
  },
  {
   "cell_type": "code",
   "execution_count": 60,
   "metadata": {},
   "outputs": [
    {
     "data": {
      "text/plain": [
       "<tf.Tensor: id=8, shape=(5, 2, 10), dtype=int32, numpy=\n",
       "array([[[  -8,  -17,   13,  199,  -56,   29, -142, -229, -120,  105],\n",
       "        [ -88,   63, -160,   -1,   61,  -68, -190, -199,    0,  -19]],\n",
       "\n",
       "       [[ 196, -163,  162,  195,  117,  -71,  -69,    1,  179,   19],\n",
       "        [-106,  -61,  -99,   54,  178,  -35,   36,  -95,   -4, -155]],\n",
       "\n",
       "       [[ -86,    0,   12, -111,   27, -145,  107,  136,   37,  202],\n",
       "        [-100,    0,  112, -168,   -7,  -29,   82,   35,   90,   31]],\n",
       "\n",
       "       [[ 100,   62, -175,   35,  165,  -20, -149,    5,   21, -107],\n",
       "        [  89,   58,   38,  150,  -80,   45,  217,   76,   81,   53]],\n",
       "\n",
       "       [[ -70,   91,   90,  -42,  227,  235,  151,  -13,  -89,   20],\n",
       "        [   3,  -11,  -38,  102,    8,   13,  120,  -25, -217,  140]]],\n",
       "      dtype=int32)>"
      ]
     },
     "execution_count": 60,
     "metadata": {},
     "output_type": "execute_result"
    }
   ],
   "source": [
    "t"
   ]
  },
  {
   "cell_type": "code",
   "execution_count": 61,
   "metadata": {},
   "outputs": [
    {
     "data": {
      "text/plain": [
       "<tf.Tensor: id=412, shape=(5, 2), dtype=int32, numpy=\n",
       "array([[ -17, -199],\n",
       "       [ -71,  178],\n",
       "       [  37,   35],\n",
       "       [-149,   45],\n",
       "       [  20, -217]], dtype=int32)>"
      ]
     },
     "execution_count": 61,
     "metadata": {},
     "output_type": "execute_result"
    }
   ],
   "source": [
    "tf.gather_nd(t, indz)"
   ]
  }
 ],
 "metadata": {
  "kernelspec": {
   "display_name": "Python 3",
   "language": "python",
   "name": "python3"
  },
  "language_info": {
   "codemirror_mode": {
    "name": "ipython",
    "version": 3
   },
   "file_extension": ".py",
   "mimetype": "text/x-python",
   "name": "python",
   "nbconvert_exporter": "python",
   "pygments_lexer": "ipython3",
   "version": "3.7.6"
  }
 },
 "nbformat": 4,
 "nbformat_minor": 4
}
